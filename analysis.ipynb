{
 "cells": [
  {
   "cell_type": "code",
   "execution_count": 14,
   "metadata": {},
   "outputs": [],
   "source": [
    "import os\n",
    "import pickle\n",
    "\n",
    "import pandas as pd\n",
    "from pprint import pprint\n",
    "from transformers.modelcard import parse_log_history"
   ]
  },
  {
   "cell_type": "code",
   "execution_count": 2,
   "metadata": {},
   "outputs": [],
   "source": [
    "##### INPUTS #####\n",
    "dataset_name = \"race_pp_4000\"\n",
    "seed = 123\n",
    "model_name = \"DistilBERT\"\n",
    "encoding = \"question_all\""
   ]
  },
  {
   "cell_type": "markdown",
   "metadata": {},
   "source": [
    "## Test metrics"
   ]
  },
  {
   "cell_type": "code",
   "execution_count": 3,
   "metadata": {},
   "outputs": [
    {
     "data": {
      "text/html": [
       "<div>\n",
       "<style scoped>\n",
       "    .dataframe tbody tr th:only-of-type {\n",
       "        vertical-align: middle;\n",
       "    }\n",
       "\n",
       "    .dataframe tbody tr th {\n",
       "        vertical-align: top;\n",
       "    }\n",
       "\n",
       "    .dataframe thead th {\n",
       "        text-align: right;\n",
       "    }\n",
       "</style>\n",
       "<table border=\"1\" class=\"dataframe\">\n",
       "  <thead>\n",
       "    <tr style=\"text-align: right;\">\n",
       "      <th></th>\n",
       "      <th>metric</th>\n",
       "      <th>value</th>\n",
       "    </tr>\n",
       "  </thead>\n",
       "  <tbody>\n",
       "    <tr>\n",
       "      <th>0</th>\n",
       "      <td>test_mean_absolute_error</td>\n",
       "      <td>0.193194</td>\n",
       "    </tr>\n",
       "    <tr>\n",
       "      <th>1</th>\n",
       "      <td>train_mean_absolute_error</td>\n",
       "      <td>0.141083</td>\n",
       "    </tr>\n",
       "    <tr>\n",
       "      <th>2</th>\n",
       "      <td>test_root_mean_squared_error</td>\n",
       "      <td>0.447134</td>\n",
       "    </tr>\n",
       "    <tr>\n",
       "      <th>3</th>\n",
       "      <td>train_root_mean_squared_error</td>\n",
       "      <td>0.379803</td>\n",
       "    </tr>\n",
       "    <tr>\n",
       "      <th>4</th>\n",
       "      <td>test_r2_score</td>\n",
       "      <td>0.449773</td>\n",
       "    </tr>\n",
       "    <tr>\n",
       "      <th>5</th>\n",
       "      <td>train_r2_score</td>\n",
       "      <td>0.783625</td>\n",
       "    </tr>\n",
       "    <tr>\n",
       "      <th>6</th>\n",
       "      <td>test_spearman_rho</td>\n",
       "      <td>0.738857</td>\n",
       "    </tr>\n",
       "    <tr>\n",
       "      <th>7</th>\n",
       "      <td>train_spearman_rho</td>\n",
       "      <td>0.889146</td>\n",
       "    </tr>\n",
       "    <tr>\n",
       "      <th>8</th>\n",
       "      <td>test_pearson_rho</td>\n",
       "      <td>0.742001</td>\n",
       "    </tr>\n",
       "    <tr>\n",
       "      <th>9</th>\n",
       "      <td>train_pearson_rho</td>\n",
       "      <td>0.888950</td>\n",
       "    </tr>\n",
       "    <tr>\n",
       "      <th>10</th>\n",
       "      <td>test_f1_score</td>\n",
       "      <td>0.811917</td>\n",
       "    </tr>\n",
       "    <tr>\n",
       "      <th>11</th>\n",
       "      <td>train_f1_score</td>\n",
       "      <td>0.862180</td>\n",
       "    </tr>\n",
       "    <tr>\n",
       "      <th>12</th>\n",
       "      <td>test_balanced_accuracy</td>\n",
       "      <td>0.809567</td>\n",
       "    </tr>\n",
       "    <tr>\n",
       "      <th>13</th>\n",
       "      <td>train_balanced_accuracy</td>\n",
       "      <td>0.860500</td>\n",
       "    </tr>\n",
       "  </tbody>\n",
       "</table>\n",
       "</div>"
      ],
      "text/plain": [
       "                           metric     value\n",
       "0        test_mean_absolute_error  0.193194\n",
       "1       train_mean_absolute_error  0.141083\n",
       "2    test_root_mean_squared_error  0.447134\n",
       "3   train_root_mean_squared_error  0.379803\n",
       "4                   test_r2_score  0.449773\n",
       "5                  train_r2_score  0.783625\n",
       "6               test_spearman_rho  0.738857\n",
       "7              train_spearman_rho  0.889146\n",
       "8                test_pearson_rho  0.742001\n",
       "9               train_pearson_rho  0.888950\n",
       "10                  test_f1_score  0.811917\n",
       "11                 train_f1_score  0.862180\n",
       "12         test_balanced_accuracy  0.809567\n",
       "13        train_balanced_accuracy  0.860500"
      ]
     },
     "execution_count": 3,
     "metadata": {},
     "output_type": "execute_result"
    }
   ],
   "source": [
    "def get_metrics(dataset_name: str, model_name: str, encoding: str, seed: int) -> pd.DataFrame:\n",
    "    \"\"\"Read metrics from output directory and return as a dataframe.\"\"\"\n",
    "    output_dir = os.path.join('output', dataset_name, 'seed_' + str(seed))\n",
    "\n",
    "    metrics = pd.read_csv(os.path.join(output_dir, 'eval_metrics_' + model_name + '_' + encoding + '.csv'))\n",
    "    metrics = metrics.transpose().reset_index().rename(columns={'index': 'metric', 0: 'value'})\n",
    "    return metrics\n",
    "\n",
    "metrics = get_metrics(dataset_name, model_name, encoding, seed)\n",
    "metrics"
   ]
  },
  {
   "cell_type": "markdown",
   "metadata": {},
   "source": [
    "## Training logs"
   ]
  },
  {
   "cell_type": "code",
   "execution_count": 21,
   "metadata": {},
   "outputs": [
    {
     "name": "stdout",
     "output_type": "stream",
     "text": [
      "[{'epoch': 0.67,\n",
      "  'learning_rate': 6.666666666666667e-06,\n",
      "  'loss': 0.2432,\n",
      "  'step': 500},\n",
      " {'epoch': 1.0,\n",
      "  'eval_loss': 0.16513565182685852,\n",
      "  'eval_r_squared': 0.55,\n",
      "  'eval_runtime': 14.9092,\n",
      "  'eval_samples_per_second': 375.541,\n",
      "  'eval_steps_per_second': 23.476,\n",
      "  'step': 750},\n",
      " {'epoch': 1.0,\n",
      "  'step': 750,\n",
      "  'total_flos': 794790217728000.0,\n",
      "  'train_loss': 0.22412510172526043,\n",
      "  'train_runtime': 116.5916,\n",
      "  'train_samples_per_second': 102.923,\n",
      "  'train_steps_per_second': 6.433}]\n"
     ]
    }
   ],
   "source": [
    "def get_train_logs(dataset_name: str, model_name: str, encoding: str, seed: int) -> dict:\n",
    "    \"\"\"Read training logs from output directory and return as a dictionary.\"\"\"\n",
    "    output_dir = os.path.join('output', dataset_name, 'seed_' + str(seed))\n",
    "\n",
    "    with open(os.path.join(output_dir, model_name + '_' + encoding, \"train_logs.pickle\"), 'rb') as handle:\n",
    "        logs = pickle.load(handle)\n",
    "    return logs\n",
    "\n",
    "logs = get_train_logs(dataset_name, model_name, encoding, seed)\n",
    "pprint(logs)"
   ]
  },
  {
   "cell_type": "code",
   "execution_count": 19,
   "metadata": {},
   "outputs": [
    {
     "name": "stdout",
     "output_type": "stream",
     "text": [
      "=== train_log ===\n",
      "{'epoch': 1.0,\n",
      " 'step': 750,\n",
      " 'total_flos': 794790217728000.0,\n",
      " 'train_loss': 0.22412510172526043,\n",
      " 'train_runtime': 116.5916,\n",
      " 'train_samples_per_second': 102.923,\n",
      " 'train_steps_per_second': 6.433}\n",
      "=== lines ===\n",
      "[{'Epoch': 1.0,\n",
      "  'R Squared': 0.55,\n",
      "  'Step': 750,\n",
      "  'Training Loss': 0.2432,\n",
      "  'Validation Loss': 0.16513565182685852}]\n",
      "=== eval_results ===\n",
      "{'Loss': 0.16513565182685852, 'R Squared': 0.55}\n"
     ]
    }
   ],
   "source": [
    "train_log, lines, eval_results = parse_log_history(logs)\n",
    "\n",
    "print(\"=\"*3, \"train_log\", \"=\"*3)\n",
    "pprint(train_log)\n",
    "print(\"=\"*3, \"lines\", \"=\"*3)\n",
    "pprint(lines)\n",
    "print(\"=\"*3, \"eval_results\", \"=\"*3)\n",
    "pprint(eval_results)"
   ]
  }
 ],
 "metadata": {
  "kernelspec": {
   "display_name": "venv",
   "language": "python",
   "name": "python3"
  },
  "language_info": {
   "codemirror_mode": {
    "name": "ipython",
    "version": 3
   },
   "file_extension": ".py",
   "mimetype": "text/x-python",
   "name": "python",
   "nbconvert_exporter": "python",
   "pygments_lexer": "ipython3",
   "version": "3.9.12"
  },
  "orig_nbformat": 4
 },
 "nbformat": 4,
 "nbformat_minor": 2
}
